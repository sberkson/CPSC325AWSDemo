{
 "cells": [
  {
   "attachments": {},
   "cell_type": "markdown",
   "metadata": {},
   "source": [
    "# AWS Web App\n",
    "#### Sam Berkson\n",
    "#### CPSC 325\n",
    "#### 2/21/23"
   ]
  },
  {
   "attachments": {},
   "cell_type": "markdown",
   "metadata": {},
   "source": [
    "#### Learning Objectives:\n",
    "* Creating a basic AWS-hosted and deployed web app\n",
    "* Familiarity with AWS Amplify, Lambda, DynamoDB\n",
    "* Building a REST API on AWS\n",
    "\n",
    "#### Pre-Requisites:\n",
    "* AWS Free Tier Account\n",
    "    * A credit card is needed to create an account, but we will not incur any charges with our demo.\n",
    "* Working Web Browser"
   ]
  },
  {
   "attachments": {},
   "cell_type": "markdown",
   "metadata": {},
   "source": [
    "### Step 1: Create our Web App"
   ]
  },
  {
   "attachments": {},
   "cell_type": "markdown",
   "metadata": {},
   "source": [
    "### Step 2: Build a Serverles Function"
   ]
  },
  {
   "attachments": {},
   "cell_type": "markdown",
   "metadata": {},
   "source": [
    "### Step 3: Link a Serverless Function to a Web App"
   ]
  },
  {
   "attachments": {},
   "cell_type": "markdown",
   "metadata": {},
   "source": [
    "### Step 4: Create a Data Table"
   ]
  },
  {
   "attachments": {},
   "cell_type": "markdown",
   "metadata": {},
   "source": [
    "### Step 5: Add Interactivity to Web App"
   ]
  }
 ],
 "metadata": {
  "language_info": {
   "name": "python"
  },
  "orig_nbformat": 4
 },
 "nbformat": 4,
 "nbformat_minor": 2
}
