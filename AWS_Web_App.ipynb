{
 "cells": [
  {
   "attachments": {},
   "cell_type": "markdown",
   "metadata": {},
   "source": [
    "# AWS Web App\n",
    "#### Sam Berkson\n",
    "#### CPSC 325\n",
    "#### 2/21/23"
   ]
  },
  {
   "attachments": {},
   "cell_type": "markdown",
   "metadata": {},
   "source": [
    "#### Learning Objectives:\n",
    "* Creating a basic AWS-hosted and deployed web app\n",
    "* Familiarity with AWS Amplify, Lambda, DynamoDB\n",
    "* Building a REST API on AWS\n",
    "\n",
    "#### Pre-Requisites:\n",
    "* AWS Free Tier Account\n",
    "    * A credit card is needed to create an account, but we will not incur any charges with our demo.\n",
    "    * https://aws.amazon.com/free/?trk=78b916d7-7c94-4cab-98d9-0ce5e648dd5f&sc_channel=ps&s_kwcid=AL!4422!3!432339156165!e!!g!!aws%20account&ef_id=CjwKCAiA0cyfBhBREiwAAtStHLNH5zLgdcyxPUKMqkzdFrTT8QCUc5uudgHdBBOCMCkHtkaMP6Sh5hoCyNkQAvD_BwE:G:s&s_kwcid=AL!4422!3!432339156165!e!!g!!aws%20account&all-free-tier.sort-by=item.additionalFields.SortRank&all-free-tier.sort-order=asc&awsf.Free%20Tier%20Types=*all&awsf.Free%20Tier%20Categories=*all\n"
   ]
  },
  {
   "cell_type": "markdown",
   "metadata": {},
   "source": [
    "* Working Web Browser"
   ]
  },
  {
   "attachments": {},
   "cell_type": "markdown",
   "metadata": {},
   "source": [
    "### Step 1: Create our Web App\n",
    "* Platform: AWS Amplify\n",
    "* Steps:\n",
    "    * Open AWS Amplify\n",
    "        * https://us-west-2.console.aws.amazon.com/amplify/home?region=us-west-2#/\n",
    "    * Get Started > Host your web app\n",
    "        * Deploy without Git Provider\n",
    "        * Environment name: dev\n",
    "        * Drag and drop index.html.zip\n",
    "        * Save and deploy\n",
    "    * Test Web App\n",
    "        * Select Domain Management in left navigation menu\n",
    "        * Copy and paste URL to see the rendered index.html code!"
   ]
  },
  {
   "attachments": {},
   "cell_type": "markdown",
   "metadata": {},
   "source": [
    "### Step 2: Build a Serverless Function\n",
    "* Platform: AWS Lambda\n",
    "* Steps:\n",
    "    * Log into AWS Lambda console\n",
    "        * https://console.aws.amazon.com/lambda/\n",
    "    * Create Function\n",
    "        * Name: HelloWorldFunction\n",
    "        * Runtime: Python 3.9\n",
    "    * Insert code into function and save. Deploy!"
   ]
  },
  {
   "cell_type": "code",
   "execution_count": null,
   "metadata": {},
   "outputs": [],
   "source": [
    "# import the JSON utility package since we will be working with a JSON object\n",
    "import json\n",
    "# define the handler function that the Lambda service will use as an entry point\n",
    "def lambda_handler(event, context):\n",
    "    # extract values from the event object we got from the Lambda service\n",
    "    name = event['firstName'] +' '+ event['lastName']\n",
    "    # return a properly formatted JSON object\n",
    "    return {\n",
    "    'statusCode': 200,\n",
    "    'body': json.dumps('Hello from Lambda, ' + name)\n",
    "    }"
   ]
  },
  {
   "attachments": {},
   "cell_type": "markdown",
   "metadata": {},
   "source": [
    "* Test function\n",
    "    * Click test\n",
    "    * Give test event a name\n",
    "    * Insert test code and save\n",
    "    * Under test, select our function.  Status == 200 is a success!"
   ]
  },
  {
   "cell_type": "code",
   "execution_count": null,
   "metadata": {
    "vscode": {
     "languageId": "json"
    }
   },
   "outputs": [],
   "source": [
    "{\n",
    "  \"firstName\": \"Ada\",\n",
    "  \"lastName\": \"Lovelace\"\n",
    "}"
   ]
  },
  {
   "attachments": {},
   "cell_type": "markdown",
   "metadata": {},
   "source": [
    "### Step 3: Link a Serverless Function to a Web App\n",
    "* Platform: API Gateway\n",
    "* Steps: \n",
    "    * Log into API Gateway console\n",
    "        * https://us-west-2.console.aws.amazon.com/apigateway/main/apis?region=us-west-2\n",
    "    * Select REST API and choose Build\n",
    "        * Protocol: REST\n",
    "    * Create new API\n",
    "        * Name: HelloWorldAPI\n",
    "        * Endpoint: Edge optimized\n",
    "        * Create API\n",
    "    * Create a new resource and method\n",
    "        * API:HelloWorldAPI > Resources\n",
    "        * Actions > Create Method\n",
    "        * POST, confirm\n",
    "        * Lambda Function integration type\n",
    "        * Select our HelloWorld function\n",
    "        * Actions > Enable CORS (Cross-origin resource sharing - allows us to use resources on a different domain)\n",
    "    * Deploy API\n",
    "        * Actions > Deploy\n",
    "        * New Stage: dev\n",
    "        * Deploy!\n",
    "        * Take note of the Invoke URL:\n",
    "    * Validate API\n",
    "        * Resources > POST\n",
    "        * Test\n",
    "        * Input test code and test!"
   ]
  },
  {
   "cell_type": "code",
   "execution_count": null,
   "metadata": {
    "vscode": {
     "languageId": "json"
    }
   },
   "outputs": [],
   "source": [
    "{\n",
    "    \"firstName\":\"Grace\",\n",
    "    \"lastName\":\"Hopper\"\n",
    "}"
   ]
  },
  {
   "attachments": {},
   "cell_type": "markdown",
   "metadata": {},
   "source": [
    "### Step 4: Create a Data Table\n",
    "* Platform: DynamoDB\n",
    "* Steps: \n",
    "    * Log into Amazon Dynamo DB console\n",
    "        * https://console.aws.amazon.com/dynamodb/home\n",
    "    * Create Table\n",
    "        * Name: HelloWorldDatabase\n",
    "        * Partition Key: ID\n",
    "        * Create!\n",
    "        * Take note of the Amazon Resource Name (ARN), this allows us to use this database!\n",
    "        * ARN:\n",
    "    * Create and add IAM policy to Lambda function\n",
    "        * Open AWS Lambda Console\n",
    "            * https://console.aws.amazon.com/lambda/\n",
    "        * Select our function\n",
    "        * Configuration > Permissions\n",
    "        * Click Execution Role link\n",
    "        * Add Permissions > Create inline policy\n",
    "        * Paste JSON text\n",
    "        * Replace \"YOUR-TABLE-ARN\" with the ARN of our DyanmoDB table\n",
    "        * Review and name!\n",
    "            * Name: HelloWorldDynamoPolicy"
   ]
  },
  {
   "cell_type": "code",
   "execution_count": null,
   "metadata": {
    "vscode": {
     "languageId": "json"
    }
   },
   "outputs": [],
   "source": [
    "{\n",
    "\"Version\": \"2012-10-17\",\n",
    "\"Statement\": [\n",
    "    {\n",
    "        \"Sid\": \"VisualEditor0\",\n",
    "        \"Effect\": \"Allow\",\n",
    "        \"Action\": [\n",
    "            \"dynamodb:PutItem\",\n",
    "            \"dynamodb:DeleteItem\",\n",
    "            \"dynamodb:GetItem\",\n",
    "            \"dynamodb:Scan\",\n",
    "            \"dynamodb:Query\",\n",
    "            \"dynamodb:UpdateItem\"\n",
    "        ],\n",
    "        \"Resource\": \"YOUR-TABLE-ARN\"\n",
    "    }\n",
    "    ]\n",
    "}"
   ]
  },
  {
   "attachments": {},
   "cell_type": "markdown",
   "metadata": {},
   "source": [
    "* Modify our Lambda function to write to our DynamoDB table\n",
    "    * Select Code tab in Lambda console\n",
    "    * Paste updated code"
   ]
  },
  {
   "cell_type": "code",
   "execution_count": null,
   "metadata": {},
   "outputs": [],
   "source": [
    "# import the json utility package since we will be working with a JSON object\n",
    "import json\n",
    "# import the AWS SDK (for Python the package name is boto3)\n",
    "import boto3\n",
    "# import two packages to help us with dates and date formatting\n",
    "from time import gmtime, strftime\n",
    "\n",
    "# create a DynamoDB object using the AWS SDK\n",
    "dynamodb = boto3.resource('dynamodb')\n",
    "# use the DynamoDB object to select our table\n",
    "table = dynamodb.Table('HelloWorldDatabase')\n",
    "# store the current time in a human readable format in a variable\n",
    "now = strftime(\"%a, %d %b %Y %H:%M:%S +0000\", gmtime())\n",
    "\n",
    "# define the handler function that the Lambda service will use as an entry point\n",
    "def lambda_handler(event, context):\n",
    "    # extract values from the event object we got from the Lambda service and store in a variable\n",
    "    name = event['firstName'] +' '+ event['lastName']\n",
    "    # write name and time to the DynamoDB table using the object we instantiated and save response in a variable\n",
    "    response = table.put_item(\n",
    "        Item={\n",
    "            'ID': name,\n",
    "            'LatestGreetingTime':now\n",
    "            })\n",
    "    # return a properly formatted JSON object\n",
    "    return {\n",
    "        'statusCode': 200,\n",
    "        'body': json.dumps('Hello from Lambda, ' + name)\n",
    "    }"
   ]
  },
  {
   "attachments": {},
   "cell_type": "markdown",
   "metadata": {},
   "source": [
    "* Deploy!\n",
    "* Test our changes\n",
    "    * Open DynamoDB console\n",
    "    * Tables > Explore items\n",
    "    * Select our database and select items"
   ]
  },
  {
   "attachments": {},
   "cell_type": "markdown",
   "metadata": {},
   "source": [
    "### Step 5: Add Interactivity to Web App\n",
    "* Platform: AWS Amplify\n",
    "* Steps:\n",
    "    * Open index-2.html \n",
    "        * On line 41, replace the url with API invoke URL\n",
    "    * Compress and upload\n",
    "    * Deploy and test!"
   ]
  }
 ],
 "metadata": {
  "language_info": {
   "name": "python"
  },
  "orig_nbformat": 4
 },
 "nbformat": 4,
 "nbformat_minor": 2
}
